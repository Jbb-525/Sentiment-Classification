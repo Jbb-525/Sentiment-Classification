{
 "cells": [
  {
   "cell_type": "code",
   "execution_count": 1,
   "metadata": {
    "ExecuteTime": {
     "end_time": "2022-03-07T06:49:22.799938Z",
     "start_time": "2022-03-07T06:49:16.400885Z"
    }
   },
   "outputs": [],
   "source": [
    "import re\n",
    "import nltk\n",
    "import torch\n",
    "import string\n",
    "import numpy as np\n",
    "import pandas as pd\n",
    "import torch.nn as nn\n",
    "import seaborn as sns\n",
    "import torch.nn.init as init\n",
    "import torch.nn.functional as F\n",
    "import torch.utils.data as Data\n",
    "import matplotlib.pyplot as plt\n",
    "from nltk.corpus import stopwords\n",
    "from nltk.tokenize import word_tokenize\n",
    "from sklearn.metrics import accuracy_score\n",
    "from keras.preprocessing.text import Tokenizer\n",
    "from sklearn.preprocessing import LabelEncoder\n",
    "from sklearn.preprocessing import OneHotEncoder\n",
    "from sklearn.metrics import classification_report\n",
    "from torch.nn.utils.rnn import pad_packed_sequence\n",
    "from sklearn.metrics import precision_recall_curve\n",
    "from matplotlib.font_manager import FontProperties\n",
    "from torch.nn.utils.rnn import pack_padded_sequence\n",
    "from keras.preprocessing.sequence import pad_sequences\n",
    "stopwords = stopwords.words('english')"
   ]
  },
  {
   "cell_type": "code",
   "execution_count": 2,
   "metadata": {
    "ExecuteTime": {
     "end_time": "2022-03-07T06:49:22.815937Z",
     "start_time": "2022-03-07T06:49:22.800938Z"
    }
   },
   "outputs": [],
   "source": [
    "batch_size = 128\n",
    "embedding_dim = 64\n",
    "filter_size = [3,4,5]\n",
    "filter_num_textcnn = 100\n",
    "filter_num_cnnlstm = 32\n",
    "n_hidden = 128"
   ]
  },
  {
   "cell_type": "code",
   "execution_count": 3,
   "metadata": {
    "ExecuteTime": {
     "end_time": "2022-03-07T06:49:26.651647Z",
     "start_time": "2022-03-07T06:49:26.632662Z"
    }
   },
   "outputs": [
    {
     "name": "stdout",
     "output_type": "stream",
     "text": [
      "cpu\n"
     ]
    }
   ],
   "source": [
    "device = torch.device(\"cuda\" if torch.cuda.is_available() else \"cpu\")\n",
    "print(device)"
   ]
  },
  {
   "cell_type": "code",
   "execution_count": 4,
   "metadata": {
    "ExecuteTime": {
     "end_time": "2022-03-07T06:49:27.919562Z",
     "start_time": "2022-03-07T06:49:27.835565Z"
    }
   },
   "outputs": [
    {
     "data": {
      "text/html": [
       "<div>\n",
       "<style scoped>\n",
       "    .dataframe tbody tr th:only-of-type {\n",
       "        vertical-align: middle;\n",
       "    }\n",
       "\n",
       "    .dataframe tbody tr th {\n",
       "        vertical-align: top;\n",
       "    }\n",
       "\n",
       "    .dataframe thead th {\n",
       "        text-align: right;\n",
       "    }\n",
       "</style>\n",
       "<table border=\"1\" class=\"dataframe\">\n",
       "  <thead>\n",
       "    <tr style=\"text-align: right;\">\n",
       "      <th></th>\n",
       "      <th>text</th>\n",
       "      <th>label</th>\n",
       "    </tr>\n",
       "  </thead>\n",
       "  <tbody>\n",
       "    <tr>\n",
       "      <th>0</th>\n",
       "      <td>i didnt feel humiliated</td>\n",
       "      <td>sadness</td>\n",
       "    </tr>\n",
       "    <tr>\n",
       "      <th>1</th>\n",
       "      <td>i can go from feeling so hopeless to so damned...</td>\n",
       "      <td>sadness</td>\n",
       "    </tr>\n",
       "    <tr>\n",
       "      <th>2</th>\n",
       "      <td>im grabbing a minute to post i feel greedy wrong</td>\n",
       "      <td>anger</td>\n",
       "    </tr>\n",
       "    <tr>\n",
       "      <th>3</th>\n",
       "      <td>i am ever feeling nostalgic about the fireplac...</td>\n",
       "      <td>love</td>\n",
       "    </tr>\n",
       "    <tr>\n",
       "      <th>4</th>\n",
       "      <td>i am feeling grouchy</td>\n",
       "      <td>anger</td>\n",
       "    </tr>\n",
       "  </tbody>\n",
       "</table>\n",
       "</div>"
      ],
      "text/plain": [
       "                                                text    label\n",
       "0                            i didnt feel humiliated  sadness\n",
       "1  i can go from feeling so hopeless to so damned...  sadness\n",
       "2   im grabbing a minute to post i feel greedy wrong    anger\n",
       "3  i am ever feeling nostalgic about the fireplac...     love\n",
       "4                               i am feeling grouchy    anger"
      ]
     },
     "execution_count": 4,
     "metadata": {},
     "output_type": "execute_result"
    }
   ],
   "source": [
    "train_df = pd.read_csv(\"./train.txt\", sep=\";\", header= None, names=[\"text\", \"label\"])\n",
    "val_df = pd.read_csv(\"./val.txt\", sep=\";\", header= None, names=[\"text\", \"label\"])\n",
    "test_df = pd.read_csv(\"./test.txt\", sep=\";\", header= None, names=[\"text\", \"label\"])\n",
    "train_df.head(5)"
   ]
  },
  {
   "cell_type": "code",
   "execution_count": 5,
   "metadata": {
    "ExecuteTime": {
     "end_time": "2022-03-07T06:49:28.610194Z",
     "start_time": "2022-03-07T06:49:28.599213Z"
    }
   },
   "outputs": [
    {
     "data": {
      "text/plain": [
       "2000"
      ]
     },
     "execution_count": 5,
     "metadata": {},
     "output_type": "execute_result"
    }
   ],
   "source": [
    "num_classes = len(val_df['label'])\n",
    "num_classes"
   ]
  },
  {
   "cell_type": "code",
   "execution_count": 6,
   "metadata": {
    "ExecuteTime": {
     "end_time": "2022-03-07T06:49:29.675967Z",
     "start_time": "2022-03-07T06:49:29.200969Z"
    }
   },
   "outputs": [
    {
     "data": {
      "image/png": "[encoded data removed]",
      "text/plain": [
       "<Figure size 1440x576 with 3 Axes>"
      ]
     },
     "metadata": {
      "needs_background": "light"
     },
     "output_type": "display_data"
    }
   ],
   "source": [
    "font_set = FontProperties(fname=r\"c:\\windows\\fonts\\simsun.ttc\", size=15)\n",
    "# 可视化label的分布\n",
    "plt.figure(figsize=(20,8))\n",
    "plt.subplot(1, 3, 1)\n",
    "train_df['label'].value_counts().plot(kind='bar')\n",
    "# plt.bar(train_df['label'].value_counts().index,train_df['label'].value_counts())\n",
    "plt.title(u\"训练集各个类别的数量\",fontproperties=font_set)\n",
    "plt.xlabel(u\"情感类别\",fontproperties=font_set)\n",
    "plt.xticks(rotation=0)\n",
    "plt.ylabel(u\"数量\",fontproperties=font_set)\n",
    "\n",
    "plt.subplot(1, 3, 2)\n",
    "val_df['label'].value_counts().plot(kind='bar')\n",
    "# plt.bar(train_df['label'].value_counts().index,train_df['label'].value_counts())\n",
    "plt.title(u\"验证集各个类别的数量\",fontproperties=font_set)\n",
    "plt.xlabel(u\"情感类别\",fontproperties=font_set)\n",
    "plt.xticks(rotation=0)\n",
    "plt.ylabel(u\"数量\",fontproperties=font_set)\n",
    "\n",
    "\n",
    "plt.subplot(1, 3, 3)\n",
    "test_df['label'].value_counts().plot(kind='bar')\n",
    "# plt.bar(train_df['label'].value_counts().index,train_df['label'].value_counts())\n",
    "plt.title(u\"测试集各个类别的数量\",fontproperties=font_set)\n",
    "plt.xlabel(u\"情感类别\",fontproperties=font_set)\n",
    "plt.xticks(rotation=0)\n",
    "plt.ylabel(u\"数量\",fontproperties=font_set)\n",
    "plt.show()"
   ]
  },
  {
   "cell_type": "markdown",
   "metadata": {},
   "source": [
    "### 文本处理"
   ]
  },
  {
   "cell_type": "code",
   "execution_count": 7,
   "metadata": {
    "ExecuteTime": {
     "end_time": "2022-03-07T06:49:32.900542Z",
     "start_time": "2022-03-07T06:49:32.867545Z"
    }
   },
   "outputs": [
    {
     "name": "stdout",
     "output_type": "stream",
     "text": [
      "i didnt feel humiliated\n"
     ]
    },
    {
     "data": {
      "text/plain": [
       "['feel', 'humiliated']"
      ]
     },
     "execution_count": 7,
     "metadata": {},
     "output_type": "execute_result"
    }
   ],
   "source": [
    "def text_process(text):\n",
    "    text = ' '+text\n",
    "    # 小写\n",
    "    text = text.lower()    \n",
    "    # 缩写更正\n",
    "    # 在该文本中没有”’“，只存在两种情况\n",
    "    # 1、省略”‘“\n",
    "    # 2、用空格代替”’“\n",
    "    text = re.sub(r\" im \", \"i am \", text)\n",
    "    text = re.sub(r\" hes \", \" he is \", text)\n",
    "    text = re.sub(r\" shes \", \" she is \", text)\n",
    "    text = re.sub(r\" ive \", \" i have \", text)\n",
    "    text = re.sub(r\" thats \", \" that is \", text)        \n",
    "    text = re.sub(r\" whats \", \" what is \", text)\n",
    "    text = re.sub(r\" wheres \", \" where is \", text)\n",
    "    text = re.sub(r\" cannt \", \" can not \", text)\n",
    "    text = re.sub(r\" couldnt \", \" could not \", text)\n",
    "    text = re.sub(r\" donnt \", \" do not \", text)\n",
    "    text = re.sub(r\" didnt \", \" did not \", text)\n",
    "    text = re.sub(r\" doesnt \", \" does not \", text)\n",
    "    text = re.sub(r\" havent \", \" have not\", text)\n",
    "    \n",
    "    text = re.sub(r\" i m \", \" i am \", text)\n",
    "    text = re.sub(r\" he s \", \" he is \", text)\n",
    "    text = re.sub(r\" she s \", \" she is \", text)\n",
    "    text = re.sub(r\" it s \", \" it is \", text)\n",
    "    text = re.sub(r\" i ve \", \" i have \", text)\n",
    "    text = re.sub(r\" i ll \", \" i will \", text)\n",
    "    text = re.sub(r\" that s \", \" that is \", text)        \n",
    "    text = re.sub(r\" what s \", \" what is \", text)\n",
    "    text = re.sub(r\" where s \", \" where is \", text) \n",
    "    text = re.sub(r\" can t \", \" can not \", text)\n",
    "    text = re.sub(r\" could t \", \" could not \", text)\n",
    "    text = re.sub(r\" don t \", \" do not \", text)\n",
    "    text = re.sub(r\" did t \", \" did not \", text)\n",
    "    text = re.sub(r\" does t \", \" does not \", text)\n",
    "    text = re.sub(r\" have t \", \" have not\", text)\n",
    "    \n",
    "    # 符号删除\n",
    "    text = re.sub(r\"[,.\\\"!@#$%^&*(){}?/;`~:<>+=-]\", \"\", text)\n",
    "    # 去停词\n",
    "    text = ' '.join([word for word in text.split() if word not in (stopwords)])\n",
    "    # 分词\n",
    "    tokens = word_tokenize(text)\n",
    "    text = [word for word in tokens if word.isalpha()]\n",
    "    return text\n",
    "\n",
    "print(train_df['text'][0])\n",
    "text_process(train_df['text'][0])"
   ]
  },
  {
   "cell_type": "code",
   "execution_count": 8,
   "metadata": {
    "ExecuteTime": {
     "end_time": "2022-03-07T06:49:36.114437Z",
     "start_time": "2022-03-07T06:49:33.906440Z"
    }
   },
   "outputs": [],
   "source": [
    "train_df[\"word\"] = train_df[\"text\"].apply(text_process)\n",
    "test_df[\"word\"] = test_df[\"text\"].apply(text_process)\n",
    "val_df[\"word\"] = val_df[\"text\"].apply(text_process)"
   ]
  },
  {
   "cell_type": "code",
   "execution_count": 9,
   "metadata": {
    "ExecuteTime": {
     "end_time": "2022-03-07T06:49:36.130438Z",
     "start_time": "2022-03-07T06:49:36.115441Z"
    }
   },
   "outputs": [
    {
     "data": {
      "text/html": [
       "<div>\n",
       "<style scoped>\n",
       "    .dataframe tbody tr th:only-of-type {\n",
       "        vertical-align: middle;\n",
       "    }\n",
       "\n",
       "    .dataframe tbody tr th {\n",
       "        vertical-align: top;\n",
       "    }\n",
       "\n",
       "    .dataframe thead th {\n",
       "        text-align: right;\n",
       "    }\n",
       "</style>\n",
       "<table border=\"1\" class=\"dataframe\">\n",
       "  <thead>\n",
       "    <tr style=\"text-align: right;\">\n",
       "      <th></th>\n",
       "      <th>text</th>\n",
       "      <th>label</th>\n",
       "      <th>word</th>\n",
       "    </tr>\n",
       "  </thead>\n",
       "  <tbody>\n",
       "    <tr>\n",
       "      <th>0</th>\n",
       "      <td>i didnt feel humiliated</td>\n",
       "      <td>sadness</td>\n",
       "      <td>[feel, humiliated]</td>\n",
       "    </tr>\n",
       "    <tr>\n",
       "      <th>1</th>\n",
       "      <td>i can go from feeling so hopeless to so damned...</td>\n",
       "      <td>sadness</td>\n",
       "      <td>[go, feeling, hopeless, damned, hopeful, aroun...</td>\n",
       "    </tr>\n",
       "    <tr>\n",
       "      <th>2</th>\n",
       "      <td>im grabbing a minute to post i feel greedy wrong</td>\n",
       "      <td>anger</td>\n",
       "      <td>[grabbing, minute, post, feel, greedy, wrong]</td>\n",
       "    </tr>\n",
       "    <tr>\n",
       "      <th>3</th>\n",
       "      <td>i am ever feeling nostalgic about the fireplac...</td>\n",
       "      <td>love</td>\n",
       "      <td>[ever, feeling, nostalgic, fireplace, know, st...</td>\n",
       "    </tr>\n",
       "    <tr>\n",
       "      <th>4</th>\n",
       "      <td>i am feeling grouchy</td>\n",
       "      <td>anger</td>\n",
       "      <td>[feeling, grouchy]</td>\n",
       "    </tr>\n",
       "  </tbody>\n",
       "</table>\n",
       "</div>"
      ],
      "text/plain": [
       "                                                text    label  \\\n",
       "0                            i didnt feel humiliated  sadness   \n",
       "1  i can go from feeling so hopeless to so damned...  sadness   \n",
       "2   im grabbing a minute to post i feel greedy wrong    anger   \n",
       "3  i am ever feeling nostalgic about the fireplac...     love   \n",
       "4                               i am feeling grouchy    anger   \n",
       "\n",
       "                                                word  \n",
       "0                                 [feel, humiliated]  \n",
       "1  [go, feeling, hopeless, damned, hopeful, aroun...  \n",
       "2      [grabbing, minute, post, feel, greedy, wrong]  \n",
       "3  [ever, feeling, nostalgic, fireplace, know, st...  \n",
       "4                                 [feeling, grouchy]  "
      ]
     },
     "execution_count": 9,
     "metadata": {},
     "output_type": "execute_result"
    }
   ],
   "source": [
    "train_df.head(5)"
   ]
  },
  {
   "cell_type": "markdown",
   "metadata": {},
   "source": [
    "### LabelEncoding"
   ]
  },
  {
   "cell_type": "code",
   "execution_count": 10,
   "metadata": {
    "ExecuteTime": {
     "end_time": "2022-03-07T06:49:36.803153Z",
     "start_time": "2022-03-07T06:49:36.783154Z"
    }
   },
   "outputs": [],
   "source": [
    "label_encoder = LabelEncoder()\n",
    "label_encoder.fit(train_df[\"label\"])\n",
    "train_df[\"encoded_label\"] = label_encoder.transform(train_df[\"label\"])\n",
    "val_df[\"encoded_label\"] = label_encoder.transform(val_df[\"label\"])\n",
    "test_df[\"encoded_label\"] = label_encoder.transform(test_df[\"label\"])"
   ]
  },
  {
   "cell_type": "code",
   "execution_count": 11,
   "metadata": {
    "ExecuteTime": {
     "end_time": "2022-03-07T06:49:37.724068Z",
     "start_time": "2022-03-07T06:49:37.705069Z"
    }
   },
   "outputs": [
    {
     "data": {
      "text/html": [
       "<div>\n",
       "<style scoped>\n",
       "    .dataframe tbody tr th:only-of-type {\n",
       "        vertical-align: middle;\n",
       "    }\n",
       "\n",
       "    .dataframe tbody tr th {\n",
       "        vertical-align: top;\n",
       "    }\n",
       "\n",
       "    .dataframe thead th {\n",
       "        text-align: right;\n",
       "    }\n",
       "</style>\n",
       "<table border=\"1\" class=\"dataframe\">\n",
       "  <thead>\n",
       "    <tr style=\"text-align: right;\">\n",
       "      <th></th>\n",
       "      <th>text</th>\n",
       "      <th>label</th>\n",
       "      <th>word</th>\n",
       "      <th>encoded_label</th>\n",
       "    </tr>\n",
       "  </thead>\n",
       "  <tbody>\n",
       "    <tr>\n",
       "      <th>0</th>\n",
       "      <td>i didnt feel humiliated</td>\n",
       "      <td>sadness</td>\n",
       "      <td>[feel, humiliated]</td>\n",
       "      <td>4</td>\n",
       "    </tr>\n",
       "    <tr>\n",
       "      <th>2</th>\n",
       "      <td>im grabbing a minute to post i feel greedy wrong</td>\n",
       "      <td>anger</td>\n",
       "      <td>[grabbing, minute, post, feel, greedy, wrong]</td>\n",
       "      <td>0</td>\n",
       "    </tr>\n",
       "    <tr>\n",
       "      <th>3</th>\n",
       "      <td>i am ever feeling nostalgic about the fireplac...</td>\n",
       "      <td>love</td>\n",
       "      <td>[ever, feeling, nostalgic, fireplace, know, st...</td>\n",
       "      <td>3</td>\n",
       "    </tr>\n",
       "    <tr>\n",
       "      <th>6</th>\n",
       "      <td>ive been taking or milligrams or times recomme...</td>\n",
       "      <td>surprise</td>\n",
       "      <td>[taking, milligrams, times, recommended, amoun...</td>\n",
       "      <td>5</td>\n",
       "    </tr>\n",
       "    <tr>\n",
       "      <th>7</th>\n",
       "      <td>i feel as confused about life as a teenager or...</td>\n",
       "      <td>fear</td>\n",
       "      <td>[feel, confused, life, teenager, jaded, year, ...</td>\n",
       "      <td>1</td>\n",
       "    </tr>\n",
       "    <tr>\n",
       "      <th>8</th>\n",
       "      <td>i have been with petronas for years i feel tha...</td>\n",
       "      <td>joy</td>\n",
       "      <td>[petronas, years, feel, petronas, performed, w...</td>\n",
       "      <td>2</td>\n",
       "    </tr>\n",
       "  </tbody>\n",
       "</table>\n",
       "</div>"
      ],
      "text/plain": [
       "                                                text     label  \\\n",
       "0                            i didnt feel humiliated   sadness   \n",
       "2   im grabbing a minute to post i feel greedy wrong     anger   \n",
       "3  i am ever feeling nostalgic about the fireplac...      love   \n",
       "6  ive been taking or milligrams or times recomme...  surprise   \n",
       "7  i feel as confused about life as a teenager or...      fear   \n",
       "8  i have been with petronas for years i feel tha...       joy   \n",
       "\n",
       "                                                word  encoded_label  \n",
       "0                                 [feel, humiliated]              4  \n",
       "2      [grabbing, minute, post, feel, greedy, wrong]              0  \n",
       "3  [ever, feeling, nostalgic, fireplace, know, st...              3  \n",
       "6  [taking, milligrams, times, recommended, amoun...              5  \n",
       "7  [feel, confused, life, teenager, jaded, year, ...              1  \n",
       "8  [petronas, years, feel, petronas, performed, w...              2  "
      ]
     },
     "execution_count": 11,
     "metadata": {},
     "output_type": "execute_result"
    }
   ],
   "source": [
    "train_df.drop_duplicates(subset=['encoded_label'],keep='first')"
   ]
  },
  {
   "cell_type": "markdown",
   "metadata": {},
   "source": [
    "### 构造数据对"
   ]
  },
  {
   "cell_type": "code",
   "execution_count": 12,
   "metadata": {
    "ExecuteTime": {
     "end_time": "2022-03-07T06:49:39.141342Z",
     "start_time": "2022-03-07T06:49:39.125346Z"
    }
   },
   "outputs": [
    {
     "name": "stdout",
     "output_type": "stream",
     "text": [
      "max_word_len: 35\n"
     ]
    }
   ],
   "source": [
    "word_len = [len(i) for i in train_df[\"word\"]]\n",
    "max_w_len = max(word_len)\n",
    "print(\"max_word_len:\",max_w_len)"
   ]
  },
  {
   "cell_type": "code",
   "execution_count": 13,
   "metadata": {
    "ExecuteTime": {
     "end_time": "2022-03-07T06:49:39.797419Z",
     "start_time": "2022-03-07T06:49:39.661421Z"
    }
   },
   "outputs": [
    {
     "data": {
      "text/plain": [
       "17248"
      ]
     },
     "execution_count": 13,
     "metadata": {},
     "output_type": "execute_result"
    }
   ],
   "source": [
    "tokenizer = Tokenizer()\n",
    "tokenizer.fit_on_texts(pd.concat([train_df[\"word\"]],axis=0))\n",
    "vocab_size = len(tokenizer.word_index) + 1 \n",
    "vocab_size"
   ]
  },
  {
   "cell_type": "code",
   "execution_count": 14,
   "metadata": {
    "ExecuteTime": {
     "end_time": "2022-03-07T06:49:40.487297Z",
     "start_time": "2022-03-07T06:49:40.161301Z"
    }
   },
   "outputs": [
    {
     "name": "stdout",
     "output_type": "stream",
     "text": [
      "tensor([[   1,  561,    0,  ...,    0,    0,    0],\n",
      "        [  29,    2,  376,  ...,    0,    0,    0],\n",
      "        [2937, 1023,  180,  ...,    0,    0,    0],\n",
      "        ...,\n",
      "        [   1,   31,  251,  ...,    0,    0,    0],\n",
      "        [   1,   31,  601,  ...,    0,    0,    0],\n",
      "        [   2,  629,  369,  ...,    0,    0,    0]]) tensor([4, 4, 0, 3, 0, 4, 5, 1, 2, 3, 4, 2, 0, 4, 2, 2, 4, 4, 4, 1, 0, 1, 2, 2,\n",
      "        0, 4, 4, 4, 0, 2, 2, 1, 5, 0, 2, 2, 2, 2, 0, 2, 2, 2, 2, 2, 4, 4, 2, 3,\n",
      "        2, 0, 2, 4, 0, 1, 2, 4, 4, 5, 2, 2, 2, 3, 1, 1, 5, 0, 0, 4, 3, 2, 4, 4,\n",
      "        2, 4, 4, 4, 2, 2, 2, 0, 4, 0, 0, 0, 2, 2, 2, 2, 4, 1, 3, 0, 4, 0, 3, 4,\n",
      "        2, 2, 4, 0, 3, 2, 2, 2, 4, 2, 2, 2, 2, 4, 2, 2, 3, 4, 4, 2, 2, 4, 2, 2,\n",
      "        1, 1, 1, 4, 3, 2, 2, 3])\n"
     ]
    }
   ],
   "source": [
    "def make_data1(word,label):\n",
    "    tokenizer = Tokenizer()\n",
    "    tokenizer.fit_on_texts(pd.concat([train_df[\"word\"]],axis=0))\n",
    "    X_seq = tokenizer.texts_to_sequences(word)\n",
    "    X_seq_pad = pad_sequences(X_seq, padding='post', maxlen=max_w_len)\n",
    "    label = label.values\n",
    "    \n",
    "    return torch.LongTensor(X_seq_pad).to(device),torch.LongTensor(label).to(device)\n",
    "\n",
    "inputs,label = make_data1(train_df['word'],train_df['encoded_label'])\n",
    "dataset = Data.TensorDataset(inputs,label)\n",
    "loader1 = Data.DataLoader(dataset, batch_size, False)\n",
    "for i,(x, y) in enumerate(loader1):\n",
    "    if i==0:\n",
    "        print(x,y)"
   ]
  },
  {
   "cell_type": "code",
   "execution_count": 15,
   "metadata": {
    "ExecuteTime": {
     "end_time": "2022-03-07T06:49:40.801428Z",
     "start_time": "2022-03-07T06:49:40.786431Z"
    }
   },
   "outputs": [],
   "source": [
    "def make_data2(word,label):\n",
    "    tokenizer = Tokenizer()\n",
    "    tokenizer.fit_on_texts(pd.concat([train_df[\"word\"]],axis=0))\n",
    "    word = tokenizer.texts_to_sequences(word)\n",
    "    \n",
    "    seq_pairs = sorted(zip(word, label), key=lambda p: len(p[0]), reverse=True) #根据长度降序排序\n",
    "    word, label = zip(*seq_pairs) #解包\n",
    "    \n",
    "    word = pad_sequences(word, padding='post', maxlen=max_w_len)\n",
    "    \n",
    "    return torch.LongTensor(word).to(device),torch.LongTensor(label).to(device)"
   ]
  },
  {
   "cell_type": "code",
   "execution_count": 16,
   "metadata": {
    "ExecuteTime": {
     "end_time": "2022-03-07T06:49:41.908234Z",
     "start_time": "2022-03-07T06:49:41.625236Z"
    }
   },
   "outputs": [
    {
     "name": "stdout",
     "output_type": "stream",
     "text": [
      "tensor([[  654, 13065, 13066,  ..., 13074,  1881,  3585],\n",
      "        [    1,     3,    76,  ...,    83,   534,     0],\n",
      "        [    1,    24,   195,  ..., 12268,  4278,     0],\n",
      "        ...,\n",
      "        [   14,     1,   149,  ...,     0,     0,     0],\n",
      "        [14891,   823,   190,  ...,     0,     0,     0],\n",
      "        [    1,   635,    15,  ...,     0,     0,     0]]) tensor([2, 2, 1, 4, 4, 0, 2, 0, 1, 4, 2, 4, 1, 4, 5, 2, 3, 0, 2, 3, 2, 4, 4, 3,\n",
      "        5, 2, 3, 4, 4, 4, 0, 2, 2, 4, 1, 0, 0, 2, 4, 4, 3, 4, 2, 2, 0, 1, 2, 2,\n",
      "        1, 4, 4, 2, 1, 4, 2, 4, 4, 3, 4, 4, 4, 2, 0, 1, 0, 2, 0, 3, 2, 0, 1, 2,\n",
      "        2, 4, 1, 2, 4, 2, 2, 4, 4, 1, 5, 2, 0, 0, 2, 4, 0, 4, 2, 4, 2, 4, 0, 4,\n",
      "        3, 4, 2, 0, 2, 4, 0, 2, 2, 4, 4, 4, 2, 4, 4, 1, 2, 4, 2, 4, 1, 0, 1, 2,\n",
      "        3, 2, 0, 5, 3, 0, 0, 2])\n"
     ]
    }
   ],
   "source": [
    "inputs,label = make_data2(train_df['word'],train_df['encoded_label'])\n",
    "dataset = Data.TensorDataset(inputs,label)\n",
    "loader = Data.DataLoader(dataset, batch_size, False)\n",
    "for i,(x, y) in enumerate(loader):\n",
    "    if i==0:\n",
    "        print(x,y)"
   ]
  },
  {
   "cell_type": "markdown",
   "metadata": {
    "ExecuteTime": {
     "end_time": "2022-03-02T07:35:14.069526Z",
     "start_time": "2022-03-02T07:35:14.058528Z"
    }
   },
   "source": [
    "### TextCNN"
   ]
  },
  {
   "cell_type": "code",
   "execution_count": 18,
   "metadata": {
    "ExecuteTime": {
     "end_time": "2022-03-07T06:49:52.043523Z",
     "start_time": "2022-03-07T06:49:52.030523Z"
    }
   },
   "outputs": [],
   "source": [
    "class TextCNN(nn.Module):\n",
    "    # 多通道textcnn\n",
    "    def __init__(self ):\n",
    "        super(TextCNN, self).__init__()\n",
    "        global filter_size,filter_num,num_classes,vocab_size\n",
    "        self.embedding = nn.Embedding(vocab_size, embedding_dim)\n",
    "        # 并列卷积\n",
    "        self.convs = nn.ModuleList([nn.Conv2d(1,filter_num_textcnn,(fsz,embedding_dim)) for fsz in filter_size])\n",
    "        self.linear = nn.Linear(len(filter_size)*filter_num_textcnn, num_classes)\n",
    "\n",
    "    def forward(self, x):\n",
    "        # x:[B,max_w_len]\n",
    "        x = self.embedding(x)\n",
    "        x = F.dropout(x,p=0.2)\n",
    "        # x:[B,max_w_len,embedding_dim]\n",
    "        x = x.unsqueeze(1)\n",
    "        # x:[B,1,max_w_len,embedding_dim]\n",
    "        x = [F.relu(conv(x)) for conv in self.convs]\n",
    "        # x:[[B, filter_num_textcnn, max_w_len-3+1, h=1],\n",
    "        #    [B, filter_num_textcnn, max_w_len-4+1, h=1],\n",
    "        #    [B, filter_num_textcnn, max_w_len-5+1, h=1]]\n",
    "        x = [F.max_pool2d(input=x_item, kernel_size=(x_item.size(2), 1)) for x_item in x]\n",
    "        # x:[[B, filter_num_textcnn,1,1],\n",
    "        #    [B, filter_num_textcnn,1,1],\n",
    "        #    [B, filter_num_textcnn,1,1]]\n",
    "        x = [x_item.squeeze(3).squeeze(2) for x_item in x]\n",
    "        # x:[[B, filter_num_textcnn],\n",
    "        #    [B, filter_num_textcnn],\n",
    "        #    [B, filter_num_textcnn]]\n",
    "        x = torch.cat(x, 1)\n",
    "        # x: [B,filter_num_textcnn*3]\n",
    "        x = F.dropout(x,p=0.2)\n",
    "        out = self.linear(x)\n",
    "        \n",
    "        return out\n",
    "    "
   ]
  },
  {
   "cell_type": "code",
   "execution_count": 90,
   "metadata": {
    "ExecuteTime": {
     "end_time": "2022-03-05T01:34:12.488061Z",
     "start_time": "2022-03-05T01:34:12.132064Z"
    }
   },
   "outputs": [],
   "source": [
    "model2 = TextCNN().to(device)\n",
    "criterion = nn.CrossEntropyLoss().to(device)\n",
    "optimizer2 = torch.optim.Adam(model2.parameters(), lr=0.001)\n",
    "\n",
    "x_train, y_train = make_data1(train_df['word'],train_df['encoded_label'])\n",
    "train_dataset = Data.TensorDataset(x_train, y_train)\n",
    "loader2 = Data.DataLoader(train_dataset, batch_size, False)\n",
    "\n",
    "x_val, y_val = make_data1(val_df['word'],val_df['encoded_label'])"
   ]
  },
  {
   "cell_type": "code",
   "execution_count": 91,
   "metadata": {
    "ExecuteTime": {
     "end_time": "2022-03-05T01:37:52.615063Z",
     "start_time": "2022-03-05T01:34:12.489062Z"
    }
   },
   "outputs": [
    {
     "name": "stdout",
     "output_type": "stream",
     "text": [
      "Epoch: 01/30: train_loss = 1.454750, val_loss = 1.489771, train_acc = 0.416625, val_acc = 0.412500\n",
      "Epoch: 02/30: train_loss = 1.238033, val_loss = 1.299400, train_acc = 0.533813, val_acc = 0.496500\n",
      "Epoch: 03/30: train_loss = 0.956699, val_loss = 1.071118, train_acc = 0.650000, val_acc = 0.592000\n",
      "Epoch: 04/30: train_loss = 0.713067, val_loss = 0.882261, train_acc = 0.745500, val_acc = 0.673500\n",
      "Epoch: 05/30: train_loss = 0.530134, val_loss = 0.704761, train_acc = 0.814625, val_acc = 0.736500\n",
      "Epoch: 06/30: train_loss = 0.415648, val_loss = 0.600386, train_acc = 0.858875, val_acc = 0.778000\n",
      "Epoch: 07/30: train_loss = 0.335563, val_loss = 0.546763, train_acc = 0.878625, val_acc = 0.800000\n",
      "Epoch: 08/30: train_loss = 0.279458, val_loss = 0.479441, train_acc = 0.901813, val_acc = 0.828000\n",
      "Epoch: 09/30: train_loss = 0.241519, val_loss = 0.451881, train_acc = 0.917063, val_acc = 0.848500\n",
      "Epoch: 10/30: train_loss = 0.210907, val_loss = 0.417319, train_acc = 0.926562, val_acc = 0.862500\n",
      "Epoch: 11/30: train_loss = 0.181584, val_loss = 0.416548, train_acc = 0.935688, val_acc = 0.854000\n",
      "Epoch: 12/30: train_loss = 0.163868, val_loss = 0.384534, train_acc = 0.942000, val_acc = 0.867000\n",
      "Epoch: 13/30: train_loss = 0.160287, val_loss = 0.388513, train_acc = 0.943187, val_acc = 0.871500\n",
      "Epoch: 14/30: train_loss = 0.132686, val_loss = 0.372474, train_acc = 0.954250, val_acc = 0.870000\n",
      "Epoch: 15/30: train_loss = 0.117159, val_loss = 0.382572, train_acc = 0.958688, val_acc = 0.878500\n",
      "Epoch: 16/30: train_loss = 0.114920, val_loss = 0.366762, train_acc = 0.959000, val_acc = 0.876000\n",
      "Epoch: 17/30: train_loss = 0.105650, val_loss = 0.365987, train_acc = 0.961125, val_acc = 0.885000\n",
      "Epoch: 18/30: train_loss = 0.104570, val_loss = 0.379409, train_acc = 0.962938, val_acc = 0.875500\n",
      "Epoch: 19/30: train_loss = 0.091410, val_loss = 0.336123, train_acc = 0.967500, val_acc = 0.890000\n",
      "Epoch: 20/30: train_loss = 0.086554, val_loss = 0.381811, train_acc = 0.970625, val_acc = 0.881000\n",
      "Epoch: 21/30: train_loss = 0.082550, val_loss = 0.377471, train_acc = 0.971187, val_acc = 0.876000\n",
      "Epoch: 22/30: train_loss = 0.074976, val_loss = 0.364774, train_acc = 0.974187, val_acc = 0.887000\n",
      "Epoch: 23/30: train_loss = 0.067755, val_loss = 0.357763, train_acc = 0.976875, val_acc = 0.892000\n",
      "Epoch: 24/30: train_loss = 0.068518, val_loss = 0.356271, train_acc = 0.975375, val_acc = 0.892500\n",
      "Epoch: 25/30: train_loss = 0.071769, val_loss = 0.384284, train_acc = 0.975250, val_acc = 0.887000\n",
      "Epoch: 26/30: train_loss = 0.063043, val_loss = 0.384231, train_acc = 0.977062, val_acc = 0.884500\n",
      "Epoch: 27/30: train_loss = 0.065149, val_loss = 0.373172, train_acc = 0.976500, val_acc = 0.886500\n",
      "Epoch: 28/30: train_loss = 0.054887, val_loss = 0.385526, train_acc = 0.980625, val_acc = 0.892500\n",
      "Epoch: 29/30: train_loss = 0.060036, val_loss = 0.376126, train_acc = 0.978437, val_acc = 0.893500\n",
      "Epoch: 30/30: train_loss = 0.055583, val_loss = 0.378244, train_acc = 0.980250, val_acc = 0.885500\n"
     ]
    }
   ],
   "source": [
    "train_acc_lst2,val_acc_lst2=[],[]\n",
    "train_loss_lst2,val_loss_lst2=[],[]\n",
    "\n",
    "for epoch in range(30):\n",
    "    model2.train()\n",
    "    for i,(x, y) in enumerate(loader2):\n",
    "        pred = model2(x)\n",
    "        loss = criterion(pred,y)\n",
    "        optimizer2.zero_grad()\n",
    "        loss.backward()\n",
    "        optimizer2.step()\n",
    "    \n",
    "    model2.eval()\n",
    "    train_pred = model2(x_train)\n",
    "    train_loss = criterion(train_pred,y_train)\n",
    "    train_loss_lst2.append(train_loss.item())\n",
    "    _,train_pre_label = torch.max(train_pred, 1)\n",
    "    train_acc = accuracy_score(train_pre_label, y_train)\n",
    "    train_acc_lst2.append(train_acc)\n",
    "    \n",
    "    val_pred = model2(x_val)\n",
    "    val_loss = criterion(val_pred,y_val)\n",
    "    val_loss_lst2.append(val_loss.item())\n",
    "    _,val_pre_label = torch.max(val_pred, 1)\n",
    "    val_acc = accuracy_score(val_pre_label, y_val)\n",
    "    val_acc_lst2.append(val_acc)\n",
    "    \n",
    "    print('Epoch: %02d/30:' % (epoch+1),'train_loss = {:.6f}, val_loss = {:.6f}, train_acc = {:.6f}, val_acc = {:.6f}'.format(train_loss,val_loss,train_acc,val_acc))\n"
   ]
  },
  {
   "cell_type": "code",
   "execution_count": 92,
   "metadata": {
    "ExecuteTime": {
     "end_time": "2022-03-05T01:37:59.452866Z",
     "start_time": "2022-03-05T01:37:59.438866Z"
    }
   },
   "outputs": [],
   "source": [
    "torch.save(model2.state_dict(),'TextCNN_2.pkl')"
   ]
  },
  {
   "cell_type": "code",
   "execution_count": 93,
   "metadata": {
    "ExecuteTime": {
     "end_time": "2022-03-05T01:38:02.040990Z",
     "start_time": "2022-03-05T01:38:01.785988Z"
    }
   },
   "outputs": [
    {
     "data": {
      "image/png": "[encoded data removed]",
      "text/plain": [
       "<Figure size 432x288 with 1 Axes>"
      ]
     },
     "metadata": {
      "needs_background": "light"
     },
     "output_type": "display_data"
    },
    {
     "data": {
      "image/png": "[encoded data removed]",
      "text/plain": [
       "<Figure size 432x288 with 1 Axes>"
      ]
     },
     "metadata": {
      "needs_background": "light"
     },
     "output_type": "display_data"
    }
   ],
   "source": [
    "# 绘制loss、acc曲线图\n",
    "plt.plot(np.arange(30),train_loss_lst2,label=\"train_loss\")\n",
    "plt.plot(np.arange(30),val_loss_lst2,label=\"val_loss\")\n",
    "plt.legend()\n",
    "plt.grid()\n",
    "plt.title('Loss')\n",
    "plt.show()\n",
    "\n",
    "plt.plot(np.arange(30),train_acc_lst2,label=\"train_acc\")\n",
    "plt.plot(np.arange(30),val_acc_lst2,label=\"val_acc\")\n",
    "plt.legend()\n",
    "plt.grid()\n",
    "plt.title('Accuracy')\n",
    "plt.show()"
   ]
  },
  {
   "cell_type": "markdown",
   "metadata": {},
   "source": [
    "### BiLSTM-Atten 处理变长"
   ]
  },
  {
   "cell_type": "code",
   "execution_count": 27,
   "metadata": {
    "ExecuteTime": {
     "end_time": "2022-03-07T13:26:29.112232Z",
     "start_time": "2022-03-07T13:26:28.949234Z"
    }
   },
   "outputs": [
    {
     "data": {
      "image/png": "[encoded data removed]",
      "text/plain": [
       "<Figure size 1440x576 with 1 Axes>"
      ]
     },
     "metadata": {
      "needs_background": "light"
     },
     "output_type": "display_data"
    }
   ],
   "source": [
    "word_len_ = pd.DataFrame({\"word_len\": word_len})\n",
    "plt.figure(figsize=(20,8))\n",
    "plt.bar(np.arange(1,36),word_len_.value_counts().sort_index().values)\n",
    "# word_len_.value_counts().sort_index().plot(kind='bar')\n",
    "plt.title(u\"各文本长度统计\",fontproperties=font_set)\n",
    "plt.grid()\n",
    "plt.xlabel(u\"文本长度\",fontproperties=font_set)\n",
    "plt.xticks(rotation=0)\n",
    "plt.ylabel(u\"数量\",fontproperties=font_set)\n",
    "plt.show()"
   ]
  },
  {
   "cell_type": "code",
   "execution_count": 20,
   "metadata": {
    "ExecuteTime": {
     "end_time": "2022-03-07T06:49:58.949302Z",
     "start_time": "2022-03-07T06:49:58.940304Z"
    }
   },
   "outputs": [],
   "source": [
    "class BiLSTM_atten_(nn.Module):\n",
    "    def __init__(self):\n",
    "        super(BiLSTM_atten_, self).__init__()\n",
    "        self.embedding = nn.Embedding(vocab_size, embedding_dim)\n",
    "        self.lstm = nn.LSTM(embedding_dim, n_hidden, bidirectional=True, batch_first=True)\n",
    "        self.out = nn.Linear(n_hidden*2, num_classes)\n",
    "        self.w_linear = nn.Linear(n_hidden*2, n_hidden*2)\n",
    "\n",
    "    def attention_net(self,lstm_output, final_state):\n",
    "        # lstm_output : [batch_size, max_w_len, n_hidden * num_directions(=2)]\n",
    "        # final_state : [num_layers(=1) * num_directions(=2), batch_size, n_hidden]\n",
    "        batch_size = len(lstm_output)\n",
    "        # final_state[0]---正向；final_state[1]---逆向。\n",
    "        hidden_ = torch.cat((final_state[0],final_state[1]),dim=1)\n",
    "        # hidden_: [B,H*2]\n",
    "        hidden = hidden_.unsqueeze(2)\n",
    "#         W_Hs = self.w_linear(lstm_output)\n",
    "\n",
    "        # lstm_out:[B, max_w_len, H*2]\n",
    "        # hidden:[B,H*2,1]\n",
    "        # atten_weight:[B,max_w_len,1]\n",
    "        atten_weights = torch.bmm(lstm_output, hidden).squeeze(2)\n",
    "        soft_atten_weights = F.softmax(atten_weights,1).unsqueeze(2)\n",
    "\n",
    "        # lstm_out:[B, max_w_len, H*2] ->[B, H*2,max_w_len]\n",
    "        # soft_attn_weights:[B,max_w_len,1]\n",
    "        # context:[B,H*2,1]\n",
    "        lstm_output = lstm_output.transpose(1,2)\n",
    "        context = torch.bmm(lstm_output,soft_atten_weights).squeeze(2)\n",
    "        \n",
    "        return context, soft_atten_weights\n",
    "\n",
    "    def forward(self,X):\n",
    "        word_len = [int(i.argmin()) if i[-1]==0 else max_w_len for i in X]\n",
    "        \n",
    "        x_input = self.embedding(X)\n",
    "        x_input = F.dropout(x_input,p=0.2)\n",
    "        \n",
    "        embed_input_x_packed = pack_padded_sequence(x_input,word_len,batch_first=True)\n",
    "        output, (final_hidden_state, final_cell_state) = self.lstm(embed_input_x_packed)\n",
    "        output,_ = pad_packed_sequence(output, batch_first=True)\n",
    "        \n",
    "        attn_output, attention = self.attention_net(output,final_hidden_state)\n",
    "        attn_output = F.dropout(attn_output,p=0.2)\n",
    "        \n",
    "        return self.out(attn_output),attention \n"
   ]
  },
  {
   "cell_type": "code",
   "execution_count": 99,
   "metadata": {
    "ExecuteTime": {
     "end_time": "2022-03-05T01:38:37.335181Z",
     "start_time": "2022-03-05T01:38:37.008180Z"
    }
   },
   "outputs": [],
   "source": [
    "model3 = BiLSTM_atten_().to(device)\n",
    "criterion = nn.CrossEntropyLoss().to(device)\n",
    "optimizer3 = torch.optim.Adam(model3.parameters(), lr=0.001)\n",
    "\n",
    "x_train, y_train = make_data2(train_df['word'],train_df['encoded_label'])\n",
    "train_dataset = Data.TensorDataset(x_train, y_train)\n",
    "loader3 = Data.DataLoader(train_dataset, batch_size, False)\n",
    "\n",
    "x_val, y_val = make_data2(val_df['word'],val_df['encoded_label'])"
   ]
  },
  {
   "cell_type": "code",
   "execution_count": 100,
   "metadata": {
    "ExecuteTime": {
     "end_time": "2022-03-05T01:44:56.157797Z",
     "start_time": "2022-03-05T01:38:40.124624Z"
    }
   },
   "outputs": [
    {
     "name": "stdout",
     "output_type": "stream",
     "text": [
      "Epoch: 01/30: train_loss = 2.127526, val_loss = 2.071435, train_acc = 0.413562, val_acc = 0.415500\n",
      "Epoch: 02/30: train_loss = 1.275527, val_loss = 1.322526, train_acc = 0.533625, val_acc = 0.523500\n",
      "Epoch: 03/30: train_loss = 0.913376, val_loss = 0.993541, train_acc = 0.676625, val_acc = 0.661500\n",
      "Epoch: 04/30: train_loss = 0.698400, val_loss = 0.819472, train_acc = 0.762813, val_acc = 0.720500\n",
      "Epoch: 05/30: train_loss = 0.480197, val_loss = 0.629433, train_acc = 0.835750, val_acc = 0.799500\n",
      "Epoch: 06/30: train_loss = 0.354867, val_loss = 0.495208, train_acc = 0.875313, val_acc = 0.830500\n",
      "Epoch: 07/30: train_loss = 0.299656, val_loss = 0.455217, train_acc = 0.894687, val_acc = 0.846500\n",
      "Epoch: 08/30: train_loss = 0.232160, val_loss = 0.416694, train_acc = 0.915125, val_acc = 0.854000\n",
      "Epoch: 09/30: train_loss = 0.218125, val_loss = 0.401806, train_acc = 0.921813, val_acc = 0.864500\n",
      "Epoch: 10/30: train_loss = 0.183600, val_loss = 0.382687, train_acc = 0.931375, val_acc = 0.862000\n",
      "Epoch: 11/30: train_loss = 0.160876, val_loss = 0.368189, train_acc = 0.939750, val_acc = 0.876000\n",
      "Epoch: 12/30: train_loss = 0.133580, val_loss = 0.348340, train_acc = 0.949313, val_acc = 0.874000\n",
      "Epoch: 13/30: train_loss = 0.124389, val_loss = 0.357868, train_acc = 0.952063, val_acc = 0.876500\n",
      "Epoch: 14/30: train_loss = 0.113997, val_loss = 0.355908, train_acc = 0.957625, val_acc = 0.886500\n",
      "Epoch: 15/30: train_loss = 0.103955, val_loss = 0.333143, train_acc = 0.961688, val_acc = 0.886000\n",
      "Epoch: 16/30: train_loss = 0.094629, val_loss = 0.308734, train_acc = 0.962688, val_acc = 0.899500\n",
      "Epoch: 17/30: train_loss = 0.086525, val_loss = 0.317446, train_acc = 0.965938, val_acc = 0.897500\n",
      "Epoch: 18/30: train_loss = 0.083404, val_loss = 0.339475, train_acc = 0.968688, val_acc = 0.888000\n",
      "Epoch: 19/30: train_loss = 0.076676, val_loss = 0.320989, train_acc = 0.972250, val_acc = 0.896500\n",
      "Epoch: 20/30: train_loss = 0.072403, val_loss = 0.330558, train_acc = 0.973375, val_acc = 0.893000\n",
      "Epoch: 21/30: train_loss = 0.065467, val_loss = 0.328327, train_acc = 0.974875, val_acc = 0.896500\n",
      "Epoch: 22/30: train_loss = 0.061497, val_loss = 0.370122, train_acc = 0.976313, val_acc = 0.886500\n",
      "Epoch: 23/30: train_loss = 0.058740, val_loss = 0.365849, train_acc = 0.978625, val_acc = 0.897000\n",
      "Epoch: 24/30: train_loss = 0.058864, val_loss = 0.346523, train_acc = 0.979313, val_acc = 0.895500\n",
      "Epoch: 25/30: train_loss = 0.051599, val_loss = 0.390094, train_acc = 0.981000, val_acc = 0.885500\n",
      "Epoch: 26/30: train_loss = 0.050036, val_loss = 0.372766, train_acc = 0.981437, val_acc = 0.901000\n",
      "Epoch: 27/30: train_loss = 0.054042, val_loss = 0.356639, train_acc = 0.979563, val_acc = 0.894500\n",
      "Epoch: 28/30: train_loss = 0.046624, val_loss = 0.317160, train_acc = 0.983375, val_acc = 0.905000\n",
      "Epoch: 29/30: train_loss = 0.044680, val_loss = 0.362412, train_acc = 0.983875, val_acc = 0.899500\n",
      "Epoch: 30/30: train_loss = 0.041756, val_loss = 0.379471, train_acc = 0.985062, val_acc = 0.896000\n"
     ]
    }
   ],
   "source": [
    "train_acc_lst3,val_acc_lst3=[],[]\n",
    "train_loss_lst3,val_loss_lst3=[],[]\n",
    "\n",
    "for epoch in range(30):\n",
    "    model3.train()\n",
    "    for i,(x, y) in enumerate(loader3):\n",
    "        pred, atten = model3(x)\n",
    "        loss = criterion(pred,y)\n",
    "        optimizer3.zero_grad()\n",
    "        loss.backward()\n",
    "        optimizer3.step()\n",
    "    \n",
    "    model3.eval()\n",
    "    train_pred, train_atten = model3(x_train)\n",
    "    train_loss = criterion(train_pred,y_train)\n",
    "    train_loss_lst3.append(train_loss.item())\n",
    "    _,train_pre_label = torch.max(train_pred, 1)\n",
    "    train_acc = accuracy_score(train_pre_label, y_train)\n",
    "    train_acc_lst3.append(train_acc)\n",
    "    \n",
    "    val_pred, val_atten = model3(x_val)\n",
    "    val_loss = criterion(val_pred,y_val)\n",
    "    val_loss_lst3.append(val_loss.item())\n",
    "    _,val_pre_label = torch.max(val_pred, 1)\n",
    "    val_acc = accuracy_score(val_pre_label, y_val)\n",
    "    val_acc_lst3.append(val_acc)\n",
    "    \n",
    "    print('Epoch: %02d/30:' % (epoch+1),'train_loss = {:.6f}, val_loss = {:.6f}, train_acc = {:.6f}, val_acc = {:.6f}'.format(train_loss,val_loss,train_acc,val_acc))\n"
   ]
  },
  {
   "cell_type": "code",
   "execution_count": 101,
   "metadata": {
    "ExecuteTime": {
     "end_time": "2022-03-05T01:46:23.369048Z",
     "start_time": "2022-03-05T01:46:23.357048Z"
    }
   },
   "outputs": [],
   "source": [
    "# 保存模型参数\n",
    "torch.save(model3.state_dict(),'BiLSTM_padded_Atten_2.pkl')"
   ]
  },
  {
   "cell_type": "code",
   "execution_count": 102,
   "metadata": {
    "ExecuteTime": {
     "end_time": "2022-03-05T01:46:23.895097Z",
     "start_time": "2022-03-05T01:46:23.660097Z"
    }
   },
   "outputs": [
    {
     "data": {
      "image/png": "[encoded data removed]",
      "text/plain": [
       "<Figure size 432x288 with 1 Axes>"
      ]
     },
     "metadata": {
      "needs_background": "light"
     },
     "output_type": "display_data"
    },
    {
     "data": {
      "image/png": "[encoded data removed]",
      "text/plain": [
       "<Figure size 432x288 with 1 Axes>"
      ]
     },
     "metadata": {
      "needs_background": "light"
     },
     "output_type": "display_data"
    }
   ],
   "source": [
    "# 绘制loss、acc曲线图\n",
    "plt.plot(np.arange(30),train_loss_lst3,label=\"train_loss\")\n",
    "plt.plot(np.arange(30),val_loss_lst3,label=\"val_loss\")\n",
    "plt.legend()\n",
    "plt.grid()\n",
    "plt.title('Loss')\n",
    "plt.show()\n",
    "\n",
    "plt.plot(np.arange(30),train_acc_lst3,label=\"train_acc\")\n",
    "plt.plot(np.arange(30),val_acc_lst3,label=\"val_acc\")\n",
    "plt.legend()\n",
    "plt.grid()\n",
    "plt.title('Accuracy')\n",
    "plt.show()"
   ]
  },
  {
   "cell_type": "markdown",
   "metadata": {},
   "source": [
    "### CNN-BiLSTM-Atten"
   ]
  },
  {
   "cell_type": "code",
   "execution_count": 21,
   "metadata": {
    "ExecuteTime": {
     "end_time": "2022-03-07T06:50:04.984006Z",
     "start_time": "2022-03-07T06:50:04.974008Z"
    }
   },
   "outputs": [],
   "source": [
    "class CNN_BiLSTM(nn.Module):\n",
    "    def __init__(self):\n",
    "        super(CNN_BiLSTM, self).__init__()\n",
    "        self.embedding = nn.Embedding(vocab_size, embedding_dim)\n",
    "        self.conv1 = nn.Sequential(\n",
    "            nn.Conv2d(1,32,(3,embedding_dim)), \n",
    "            nn.ReLU(),\n",
    "            nn.MaxPool2d(kernel_size=(3,1))\n",
    "        )\n",
    "        self.conv2 = nn.Sequential(\n",
    "            nn.Conv2d(32,32,(3,1)), \n",
    "            nn.ReLU(),\n",
    "#             nn.MaxPool2d(kernel_size=(3,1))\n",
    "        )\n",
    "\n",
    "        self.lstm = nn.LSTM(32,n_hidden,bidirectional=True, batch_first=True)\n",
    "        self.out = nn.Linear(n_hidden*2,6)\n",
    "        \n",
    "        \n",
    "    def attention_net(self,lstm_output, final_state):\n",
    "        batch_size = len(lstm_output)\n",
    "        hidden_ = torch.cat((final_state[0],final_state[1]),dim=1)\n",
    "        hidden = hidden_.unsqueeze(2)\n",
    "        atten_weights = torch.bmm(lstm_output, hidden).squeeze(2)\n",
    "        soft_atten_weights = F.softmax(atten_weights,1).unsqueeze(2)\n",
    "        lstm_output = lstm_output.transpose(1,2)\n",
    "        context = torch.bmm(lstm_output,soft_atten_weights).squeeze(2)\n",
    "        \n",
    "        return context, soft_atten_weights\n",
    "\n",
    "    def forward(self,X):\n",
    "        batch_size = len(X)\n",
    "        x_input = self.embedding(X)\n",
    "#         x_input = F.dropout(x_input,p=0.2)\n",
    "        # x_input:[B,max_w_len,embedding_dim]\n",
    "        x_input = x_input.unsqueeze(1)\n",
    "        # x_input:[B,1,max_w_len,embedding_dim]\n",
    "        x_input = self.conv1(x_input)\n",
    "        # x_input:[B,32,11,1]\n",
    "        x_input = F.dropout(x_input,p=0.4)\n",
    "#         x_input = self.conv2(x_input)\n",
    "        x_input = x_input.view(batch_size,11,32)\n",
    "#         x_input = F.dropout(x_input,p=0.2)\n",
    "        output, (final_hidden_state, final_cell_state) = self.lstm(x_input)\n",
    "        attn_output, attention = self.attention_net(output,final_hidden_state)\n",
    "#         attn_output = F.dropout(attn_output,p=0.2)\n",
    "        \n",
    "        return self.out(attn_output),attention "
   ]
  },
  {
   "cell_type": "code",
   "execution_count": 25,
   "metadata": {
    "ExecuteTime": {
     "end_time": "2022-03-04T03:39:19.978759Z",
     "start_time": "2022-03-04T03:39:19.652761Z"
    }
   },
   "outputs": [],
   "source": [
    "model4 = CNN_BiLSTM().to(device)\n",
    "criterion = nn.CrossEntropyLoss().to(device)\n",
    "optimizer4 = torch.optim.Adam(model4.parameters(), lr=0.003)\n",
    "\n",
    "x_train, y_train = make_data1(train_df['word'],train_df['encoded_label'])\n",
    "train_dataset = Data.TensorDataset(x_train, y_train)\n",
    "loader4 = Data.DataLoader(train_dataset, batch_size, False)\n",
    "\n",
    "x_val, y_val = make_data1(val_df['word'],val_df['encoded_label'])"
   ]
  },
  {
   "cell_type": "code",
   "execution_count": 26,
   "metadata": {
    "ExecuteTime": {
     "end_time": "2022-03-04T03:44:10.803449Z",
     "start_time": "2022-03-04T03:39:22.837855Z"
    }
   },
   "outputs": [
    {
     "name": "stdout",
     "output_type": "stream",
     "text": [
      "Epoch: 01/30: train_loss = 1.434063, val_loss = 1.486163, train_acc = 0.451188, val_acc = 0.422000\n",
      "Epoch: 02/30: train_loss = 1.051479, val_loss = 1.113948, train_acc = 0.591000, val_acc = 0.566500\n",
      "Epoch: 03/30: train_loss = 0.743562, val_loss = 0.900676, train_acc = 0.695187, val_acc = 0.648000\n",
      "Epoch: 04/30: train_loss = 0.541991, val_loss = 0.710946, train_acc = 0.771500, val_acc = 0.724000\n",
      "Epoch: 05/30: train_loss = 0.400610, val_loss = 0.614798, train_acc = 0.847187, val_acc = 0.777000\n",
      "Epoch: 06/30: train_loss = 0.299939, val_loss = 0.565433, train_acc = 0.889750, val_acc = 0.810500\n",
      "Epoch: 07/30: train_loss = 0.240265, val_loss = 0.532256, train_acc = 0.913563, val_acc = 0.824500\n",
      "Epoch: 08/30: train_loss = 0.212909, val_loss = 0.524242, train_acc = 0.924125, val_acc = 0.838500\n",
      "Epoch: 09/30: train_loss = 0.195066, val_loss = 0.519141, train_acc = 0.931875, val_acc = 0.848000\n",
      "Epoch: 10/30: train_loss = 0.158966, val_loss = 0.516830, train_acc = 0.946187, val_acc = 0.845000\n",
      "Epoch: 11/30: train_loss = 0.149368, val_loss = 0.535718, train_acc = 0.948000, val_acc = 0.842000\n",
      "Epoch: 12/30: train_loss = 0.121413, val_loss = 0.512624, train_acc = 0.956937, val_acc = 0.852500\n",
      "Epoch: 13/30: train_loss = 0.111948, val_loss = 0.541113, train_acc = 0.961625, val_acc = 0.852500\n",
      "Epoch: 14/30: train_loss = 0.125991, val_loss = 0.569640, train_acc = 0.957438, val_acc = 0.839500\n",
      "Epoch: 15/30: train_loss = 0.092434, val_loss = 0.515946, train_acc = 0.967187, val_acc = 0.857000\n",
      "Epoch: 16/30: train_loss = 0.095803, val_loss = 0.573916, train_acc = 0.966625, val_acc = 0.851000\n",
      "Epoch: 17/30: train_loss = 0.081646, val_loss = 0.548232, train_acc = 0.973250, val_acc = 0.859500\n",
      "Epoch: 18/30: train_loss = 0.085399, val_loss = 0.564686, train_acc = 0.971063, val_acc = 0.855000\n",
      "Epoch: 19/30: train_loss = 0.078434, val_loss = 0.538201, train_acc = 0.971938, val_acc = 0.861000\n",
      "Epoch: 20/30: train_loss = 0.070443, val_loss = 0.606456, train_acc = 0.976500, val_acc = 0.852500\n",
      "Epoch: 21/30: train_loss = 0.067683, val_loss = 0.579397, train_acc = 0.978500, val_acc = 0.860500\n",
      "Epoch: 22/30: train_loss = 0.065422, val_loss = 0.555974, train_acc = 0.978437, val_acc = 0.860000\n",
      "Epoch: 23/30: train_loss = 0.060758, val_loss = 0.592000, train_acc = 0.979313, val_acc = 0.859000\n",
      "Epoch: 24/30: train_loss = 0.057302, val_loss = 0.609816, train_acc = 0.981000, val_acc = 0.857000\n",
      "Epoch: 25/30: train_loss = 0.058078, val_loss = 0.598537, train_acc = 0.979125, val_acc = 0.863000\n",
      "Epoch: 26/30: train_loss = 0.058139, val_loss = 0.584519, train_acc = 0.979437, val_acc = 0.859000\n",
      "Epoch: 27/30: train_loss = 0.053171, val_loss = 0.585201, train_acc = 0.982625, val_acc = 0.866000\n",
      "Epoch: 28/30: train_loss = 0.055252, val_loss = 0.636652, train_acc = 0.980437, val_acc = 0.860500\n",
      "Epoch: 29/30: train_loss = 0.061016, val_loss = 0.601842, train_acc = 0.980000, val_acc = 0.862500\n",
      "Epoch: 30/30: train_loss = 0.051629, val_loss = 0.655757, train_acc = 0.981688, val_acc = 0.856500\n"
     ]
    }
   ],
   "source": [
    "train_acc_lst4,val_acc_lst4=[],[]\n",
    "train_loss_lst4,val_loss_lst4=[],[]\n",
    "\n",
    "for epoch in range(30):\n",
    "    model4.train()\n",
    "    for i,(x, y) in enumerate(loader4):\n",
    "        pred, atten = model4(x)\n",
    "        loss = criterion(pred,y)\n",
    "        optimizer4.zero_grad()\n",
    "        loss.backward()\n",
    "        optimizer4.step()\n",
    "    \n",
    "    model4.eval()\n",
    "    train_pred, train_atten = model4(x_train)\n",
    "    train_loss = criterion(train_pred,y_train)\n",
    "    train_loss_lst4.append(train_loss.item())\n",
    "    _,train_pre_label = torch.max(train_pred, 1)\n",
    "    train_acc = accuracy_score(train_pre_label, y_train)\n",
    "    train_acc_lst4.append(train_acc)\n",
    "    \n",
    "    val_pred, val_atten = model4(x_val)\n",
    "    val_loss = criterion(val_pred,y_val)\n",
    "    val_loss_lst4.append(val_loss.item())\n",
    "    _,val_pre_label = torch.max(val_pred, 1)\n",
    "    val_acc = accuracy_score(val_pre_label, y_val)\n",
    "    val_acc_lst4.append(val_acc)\n",
    "    \n",
    "    print('Epoch: %02d/30:' % (epoch+1),'train_loss = {:.6f}, val_loss = {:.6f}, train_acc = {:.6f}, val_acc = {:.6f}'.format(train_loss,val_loss,train_acc,val_acc))\n"
   ]
  },
  {
   "cell_type": "code",
   "execution_count": 75,
   "metadata": {
    "ExecuteTime": {
     "end_time": "2022-03-03T15:51:41.975705Z",
     "start_time": "2022-03-03T15:51:41.946706Z"
    }
   },
   "outputs": [],
   "source": [
    "torch.save(model4.state_dict(),'CNN-BiLSTM_Atten.pkl')"
   ]
  },
  {
   "cell_type": "code",
   "execution_count": 76,
   "metadata": {
    "ExecuteTime": {
     "end_time": "2022-03-03T15:52:22.081460Z",
     "start_time": "2022-03-03T15:52:21.791461Z"
    }
   },
   "outputs": [
    {
     "data": {
      "image/png": "[encoded data removed]",
      "text/plain": [
       "<Figure size 432x288 with 1 Axes>"
      ]
     },
     "metadata": {
      "needs_background": "light"
     },
     "output_type": "display_data"
    },
    {
     "data": {
      "image/png": "[encoded data removed]",
      "text/plain": [
       "<Figure size 432x288 with 1 Axes>"
      ]
     },
     "metadata": {
      "needs_background": "light"
     },
     "output_type": "display_data"
    }
   ],
   "source": [
    "# 绘制loss、acc曲线图\n",
    "plt.plot(np.arange(30),train_loss_lst4,label=\"train_loss\")\n",
    "plt.plot(np.arange(30),val_loss_lst4,label=\"val_loss\")\n",
    "plt.legend()\n",
    "plt.grid()\n",
    "plt.title('Loss')\n",
    "plt.show()\n",
    "\n",
    "plt.plot(np.arange(30),train_acc_lst4,label=\"train_acc\")\n",
    "plt.plot(np.arange(30),val_acc_lst4,label=\"val_acc\")\n",
    "plt.legend()\n",
    "plt.grid()\n",
    "plt.title('Accuracy')\n",
    "plt.show()"
   ]
  },
  {
   "cell_type": "markdown",
   "metadata": {
    "ExecuteTime": {
     "end_time": "2022-03-03T16:54:57.230016Z",
     "start_time": "2022-03-03T16:54:57.215019Z"
    }
   },
   "source": [
    "### BiLSTM_CNN"
   ]
  },
  {
   "cell_type": "code",
   "execution_count": 22,
   "metadata": {
    "ExecuteTime": {
     "end_time": "2022-03-07T06:50:10.160772Z",
     "start_time": "2022-03-07T06:50:10.141775Z"
    }
   },
   "outputs": [],
   "source": [
    "class BiLSTM_CNN(nn.Module):\n",
    "    def __init__(self):\n",
    "        super(BiLSTM_CNN, self).__init__()\n",
    "        self.embedding = nn.Embedding(vocab_size, embedding_dim)\n",
    "        self.lstm = nn.LSTM(embedding_dim,n_hidden,bidirectional=True, batch_first=True)\n",
    "        self.conv1 = nn.Sequential(\n",
    "            nn.Conv2d(1,32,(3,n_hidden*2)), \n",
    "            nn.ReLU(),\n",
    "            nn.MaxPool2d(kernel_size=(3,1))\n",
    "        )\n",
    "        self.out = nn.Linear(11*32,6)\n",
    "        \n",
    "    def forward(self,X):\n",
    "        batch_size = len(X)\n",
    "        x_input = self.embedding(X)\n",
    "        output, (final_hidden_state, final_cell_state) = self.lstm(x_input)\n",
    "        # output:[B,max_w_len,n_hidden*2]\n",
    "        output = output.unsqueeze(1)\n",
    "        # output:[B,1,max_w_len,n_hidden*2]\n",
    "        output = self.conv1(output)\n",
    "        # output:[B,1,11,1]\n",
    "        output = F.dropout(output,p=0.5)\n",
    "        output = output.view(batch_size,11*32)\n",
    "        output = F.dropout(output,p=0.2)\n",
    "        \n",
    "        return self.out(output)"
   ]
  },
  {
   "cell_type": "code",
   "execution_count": 23,
   "metadata": {
    "ExecuteTime": {
     "end_time": "2022-03-07T06:50:15.695464Z",
     "start_time": "2022-03-07T06:50:15.212467Z"
    }
   },
   "outputs": [],
   "source": [
    "model5 = BiLSTM_CNN().to(device)\n",
    "criterion = nn.CrossEntropyLoss().to(device)\n",
    "optimizer5 = torch.optim.Adam(model5.parameters(), lr=0.002)\n",
    "\n",
    "x_train, y_train = make_data2(train_df['word'],train_df['encoded_label'])\n",
    "train_dataset = Data.TensorDataset(x_train, y_train)\n",
    "loader5 = Data.DataLoader(train_dataset, batch_size, False)\n",
    "\n",
    "x_val, y_val = make_data2(val_df['word'],val_df['encoded_label'])"
   ]
  },
  {
   "cell_type": "code",
   "execution_count": 24,
   "metadata": {
    "ExecuteTime": {
     "end_time": "2022-03-07T07:05:51.077623Z",
     "start_time": "2022-03-07T06:50:15.783467Z"
    }
   },
   "outputs": [
    {
     "name": "stdout",
     "output_type": "stream",
     "text": [
      "Epoch: 01/30: train_loss = 2.699283, val_loss = 2.854805, train_acc = 0.491812, val_acc = 0.480000\n",
      "Epoch: 02/30: train_loss = 0.863215, val_loss = 1.014087, train_acc = 0.710938, val_acc = 0.669500\n",
      "Epoch: 03/30: train_loss = 0.420816, val_loss = 0.621218, train_acc = 0.855062, val_acc = 0.797000\n",
      "Epoch: 04/30: train_loss = 0.221400, val_loss = 0.480110, train_acc = 0.922063, val_acc = 0.856000\n",
      "Epoch: 05/30: train_loss = 0.156154, val_loss = 0.523977, train_acc = 0.945438, val_acc = 0.868000\n",
      "Epoch: 06/30: train_loss = 0.099607, val_loss = 0.441170, train_acc = 0.964562, val_acc = 0.881500\n",
      "Epoch: 07/30: train_loss = 0.071732, val_loss = 0.514641, train_acc = 0.975812, val_acc = 0.878000\n",
      "Epoch: 08/30: train_loss = 0.061687, val_loss = 0.557740, train_acc = 0.979437, val_acc = 0.881500\n",
      "Epoch: 09/30: train_loss = 0.053903, val_loss = 0.566543, train_acc = 0.981187, val_acc = 0.880500\n",
      "Epoch: 10/30: train_loss = 0.036921, val_loss = 0.587723, train_acc = 0.986750, val_acc = 0.882500\n",
      "Epoch: 11/30: train_loss = 0.034701, val_loss = 0.714302, train_acc = 0.988125, val_acc = 0.892000\n",
      "Epoch: 12/30: train_loss = 0.024631, val_loss = 0.697849, train_acc = 0.992313, val_acc = 0.890500\n",
      "Epoch: 13/30: train_loss = 0.020001, val_loss = 0.714842, train_acc = 0.993313, val_acc = 0.886000\n",
      "Epoch: 14/30: train_loss = 0.023391, val_loss = 0.723454, train_acc = 0.992313, val_acc = 0.886500\n",
      "Epoch: 15/30: train_loss = 0.028254, val_loss = 0.746755, train_acc = 0.992250, val_acc = 0.883000\n",
      "Epoch: 16/30: train_loss = 0.019387, val_loss = 0.751773, train_acc = 0.993250, val_acc = 0.891000\n",
      "Epoch: 17/30: train_loss = 0.016960, val_loss = 0.724917, train_acc = 0.993812, val_acc = 0.890500\n",
      "Epoch: 18/30: train_loss = 0.014726, val_loss = 0.710220, train_acc = 0.993875, val_acc = 0.888000\n",
      "Epoch: 19/30: train_loss = 0.019169, val_loss = 0.784579, train_acc = 0.993062, val_acc = 0.890500\n",
      "Epoch: 20/30: train_loss = 0.013554, val_loss = 0.801059, train_acc = 0.995313, val_acc = 0.898000\n",
      "Epoch: 21/30: train_loss = 0.019833, val_loss = 0.779217, train_acc = 0.993375, val_acc = 0.889500\n",
      "Epoch: 22/30: train_loss = 0.015805, val_loss = 0.901081, train_acc = 0.994812, val_acc = 0.893000\n",
      "Epoch: 23/30: train_loss = 0.015638, val_loss = 0.780127, train_acc = 0.994125, val_acc = 0.890000\n",
      "Epoch: 24/30: train_loss = 0.026694, val_loss = 0.765519, train_acc = 0.990187, val_acc = 0.890500\n",
      "Epoch: 25/30: train_loss = 0.010289, val_loss = 0.760572, train_acc = 0.995938, val_acc = 0.892000\n",
      "Epoch: 26/30: train_loss = 0.008676, val_loss = 0.800685, train_acc = 0.996563, val_acc = 0.899500\n",
      "Epoch: 27/30: train_loss = 0.012120, val_loss = 0.847843, train_acc = 0.995687, val_acc = 0.895000\n",
      "Epoch: 28/30: train_loss = 0.010768, val_loss = 0.813195, train_acc = 0.995437, val_acc = 0.890500\n",
      "Epoch: 29/30: train_loss = 0.009278, val_loss = 0.847260, train_acc = 0.996625, val_acc = 0.896000\n",
      "Epoch: 30/30: train_loss = 0.007787, val_loss = 0.875914, train_acc = 0.997000, val_acc = 0.888500\n"
     ]
    }
   ],
   "source": [
    "train_acc_lst5,val_acc_lst5=[],[]\n",
    "train_loss_lst5,val_loss_lst5=[],[]\n",
    "\n",
    "for epoch in range(30):\n",
    "    model5.train()\n",
    "    for i,(x, y) in enumerate(loader5):\n",
    "        pred = model5(x)\n",
    "        loss = criterion(pred,y)\n",
    "        optimizer5.zero_grad()\n",
    "        loss.backward()\n",
    "        optimizer5.step()\n",
    "    \n",
    "    model5.eval()\n",
    "    train_pred = model5(x_train)\n",
    "    train_loss = criterion(train_pred,y_train)\n",
    "    train_loss_lst5.append(train_loss.item())\n",
    "    _,train_pre_label = torch.max(train_pred, 1)\n",
    "    train_acc = accuracy_score(train_pre_label, y_train)\n",
    "    train_acc_lst5.append(train_acc)\n",
    "    \n",
    "    val_pred = model5(x_val)\n",
    "    val_loss = criterion(val_pred,y_val)\n",
    "    val_loss_lst5.append(val_loss.item())\n",
    "    _,val_pre_label = torch.max(val_pred, 1)\n",
    "    val_acc = accuracy_score(val_pre_label, y_val)\n",
    "    val_acc_lst5.append(val_acc)\n",
    "    \n",
    "    x_test, y_test = make_data1(test_df['word'],test_df['encoded_label'])\n",
    "    \n",
    "    print('Epoch: %02d/30:' % (epoch+1),'train_loss = {:.6f}, val_loss = {:.6f}, train_acc = {:.6f}, val_acc = {:.6f}'.format(train_loss,val_loss,train_acc,val_acc))\n"
   ]
  },
  {
   "cell_type": "code",
   "execution_count": null,
   "metadata": {
    "ExecuteTime": {
     "end_time": "2022-03-06T17:37:12.202827Z",
     "start_time": "2022-03-06T17:37:11.011Z"
    }
   },
   "outputs": [],
   "source": [
    "torch.save(model5.state_dict(),'BiLSTM-CNN_1.pkl')"
   ]
  },
  {
   "cell_type": "code",
   "execution_count": 303,
   "metadata": {
    "ExecuteTime": {
     "end_time": "2022-03-05T14:35:52.829447Z",
     "start_time": "2022-03-05T14:35:52.585451Z"
    }
   },
   "outputs": [
    {
     "data": {
      "image/png": "[encoded data removed]",
      "text/plain": [
       "<Figure size 432x288 with 1 Axes>"
      ]
     },
     "metadata": {
      "needs_background": "light"
     },
     "output_type": "display_data"
    },
    {
     "data": {
      "image/png": "[encoded data removed]",
      "text/plain": [
       "<Figure size 432x288 with 1 Axes>"
      ]
     },
     "metadata": {
      "needs_background": "light"
     },
     "output_type": "display_data"
    }
   ],
   "source": [
    "# 绘制loss、acc曲线图\n",
    "plt.plot(np.arange(30),train_loss_lst5,label=\"train_loss\")\n",
    "plt.plot(np.arange(30),val_loss_lst5,label=\"val_loss\",linestyle='--')\n",
    "plt.legend()\n",
    "plt.grid()\n",
    "plt.title('Loss')\n",
    "plt.show()\n",
    "\n",
    "plt.plot(np.arange(30),train_acc_lst5,label=\"train_acc\")\n",
    "plt.plot(np.arange(30),val_acc_lst5,label=\"val_acc\",linestyle='--')\n",
    "plt.legend()\n",
    "plt.grid()\n",
    "plt.title('Accuracy')\n",
    "plt.show()"
   ]
  },
  {
   "cell_type": "markdown",
   "metadata": {},
   "source": [
    "### 模型评价指标"
   ]
  },
  {
   "cell_type": "code",
   "execution_count": 110,
   "metadata": {
    "ExecuteTime": {
     "end_time": "2022-03-05T01:48:59.898349Z",
     "start_time": "2022-03-05T01:48:59.598353Z"
    }
   },
   "outputs": [],
   "source": [
    "# lstm1 = BiLSTM_Attention().to(device)\n",
    "# lstm1.load_state_dict(torch.load(\"./BiLSTM_Atten_2.pkl\"))\n",
    "textcnn = TextCNN().to(device)\n",
    "textcnn.load_state_dict(torch.load(\"./TextCNN_2.pkl\"))\n",
    "lstm2 = BiLSTM_atten_().to(device)\n",
    "lstm2.load_state_dict(torch.load(\"./BiLSTM_padded_Atten_2.pkl\"))\n",
    "cnn_bilstm = CNN_BiLSTM().to(device)\n",
    "cnn_bilstm.load_state_dict(torch.load(\"./CNN-BiLSTM_Atten.pkl\"))\n",
    "bilstm_cnn = BiLSTM_CNN().to(device)\n",
    "bilstm_cnn.load_state_dict(torch.load(\"./BiLSTM-CNN.pkl\"))\n",
    "\n",
    "criterion = nn.CrossEntropyLoss().to(device)\n",
    "x_test, y_test = make_data1(test_df['word'],test_df['encoded_label'])\n",
    "x_test_, y_test_ = make_data2(test_df['word'],test_df['encoded_label'])"
   ]
  },
  {
   "cell_type": "code",
   "execution_count": 111,
   "metadata": {
    "ExecuteTime": {
     "end_time": "2022-03-05T01:49:02.268349Z",
     "start_time": "2022-03-05T01:48:59.986348Z"
    }
   },
   "outputs": [],
   "source": [
    "# pred_lst1 =[]\n",
    "# lstm1.eval()\n",
    "# pred,_ = lstm1(x_test)\n",
    "# _,pre_label = torch.max(pred, 1)\n",
    "# pred_lst1.append(pre_label.data)\n",
    "\n",
    "pred_lst2 =[]\n",
    "textcnn.eval()\n",
    "pred = textcnn(x_test)\n",
    "_,pre_label = torch.max(pred, 1)\n",
    "pred_lst2.append(pre_label.data)\n",
    "\n",
    "pred_lst3 =[]\n",
    "lstm2.eval()\n",
    "pred,_ = lstm2(x_test_)\n",
    "_,pre_label = torch.max(pred, 1)\n",
    "pred_lst3.append(pre_label.data)\n",
    "\n",
    "pred_lst4 =[]\n",
    "cnn_bilstm.eval()\n",
    "pred,_ = cnn_bilstm(x_test)\n",
    "_,pre_label = torch.max(pred, 1)\n",
    "pred_lst4.append(pre_label.data)\n",
    "\n",
    "pred_lst5 =[]\n",
    "bilstm_cnn .eval()\n",
    "pred = bilstm_cnn(x_test)\n",
    "_,pre_label = torch.max(pred, 1)\n",
    "pred_lst5.append(pre_label.data)"
   ]
  },
  {
   "cell_type": "code",
   "execution_count": 163,
   "metadata": {
    "ExecuteTime": {
     "end_time": "2022-03-05T09:41:37.958232Z",
     "start_time": "2022-03-05T09:41:37.943228Z"
    }
   },
   "outputs": [
    {
     "name": "stdout",
     "output_type": "stream",
     "text": [
      "              precision    recall  f1-score   support\n",
      "\n",
      "           0     0.8736    0.8545    0.8640       275\n",
      "           1     0.8333    0.8705    0.8515       224\n",
      "           2     0.9126    0.9165    0.9146       695\n",
      "           3     0.8027    0.7421    0.7712       159\n",
      "           4     0.8988    0.9174    0.9080       581\n",
      "           5     0.7288    0.6515    0.6880        66\n",
      "\n",
      "    accuracy                         0.8805      2000\n",
      "   macro avg     0.8417    0.8254    0.8329      2000\n",
      "weighted avg     0.8796    0.8805    0.8798      2000\n",
      "\n"
     ]
    }
   ],
   "source": [
    "print(classification_report(y_test.numpy(),np.array(pred_lst2[0]),digits=4))"
   ]
  },
  {
   "cell_type": "code",
   "execution_count": 164,
   "metadata": {
    "ExecuteTime": {
     "end_time": "2022-03-05T09:41:40.625886Z",
     "start_time": "2022-03-05T09:41:40.613884Z"
    }
   },
   "outputs": [
    {
     "name": "stdout",
     "output_type": "stream",
     "text": [
      "              precision    recall  f1-score   support\n",
      "\n",
      "           0     0.8772    0.9091    0.8929       275\n",
      "           1     0.8547    0.8929    0.8734       224\n",
      "           2     0.9260    0.9180    0.9220       695\n",
      "           3     0.7651    0.7987    0.7815       159\n",
      "           4     0.9492    0.9329    0.9410       581\n",
      "           5     0.8364    0.6970    0.7603        66\n",
      "\n",
      "    accuracy                         0.9015      2000\n",
      "   macro avg     0.8681    0.8581    0.8618      2000\n",
      "weighted avg     0.9023    0.9015    0.9015      2000\n",
      "\n"
     ]
    }
   ],
   "source": [
    "print(classification_report(y_test_.numpy(),np.array(pred_lst3[0]),digits=4))"
   ]
  },
  {
   "cell_type": "code",
   "execution_count": 165,
   "metadata": {
    "ExecuteTime": {
     "end_time": "2022-03-05T09:41:43.271003Z",
     "start_time": "2022-03-05T09:41:43.257001Z"
    }
   },
   "outputs": [
    {
     "name": "stdout",
     "output_type": "stream",
     "text": [
      "              precision    recall  f1-score   support\n",
      "\n",
      "           0     0.8500    0.8655    0.8577       275\n",
      "           1     0.8779    0.8348    0.8558       224\n",
      "           2     0.9216    0.8964    0.9088       695\n",
      "           3     0.6720    0.7987    0.7299       159\n",
      "           4     0.9410    0.9329    0.9369       581\n",
      "           5     0.6970    0.6970    0.6970        66\n",
      "\n",
      "    accuracy                         0.8815      2000\n",
      "   macro avg     0.8266    0.8375    0.8310      2000\n",
      "weighted avg     0.8852    0.8815    0.8828      2000\n",
      "\n"
     ]
    }
   ],
   "source": [
    "print(classification_report(y_test.numpy(),np.array(pred_lst4[0]),digits=4))"
   ]
  },
  {
   "cell_type": "code",
   "execution_count": 272,
   "metadata": {
    "ExecuteTime": {
     "end_time": "2022-03-05T11:12:32.297190Z",
     "start_time": "2022-03-05T11:12:32.279188Z"
    }
   },
   "outputs": [
    {
     "name": "stdout",
     "output_type": "stream",
     "text": [
      "              precision    recall  f1-score   support\n",
      "\n",
      "           0     0.8799    0.9055    0.8925       275\n",
      "           1     0.8929    0.8929    0.8929       224\n",
      "           2     0.9185    0.9410    0.9296       695\n",
      "           3     0.8255    0.7736    0.7987       159\n",
      "           4     0.9629    0.9380    0.9503       581\n",
      "           5     0.8182    0.8182    0.8182        66\n",
      "\n",
      "    accuracy                         0.9125      2000\n",
      "   macro avg     0.8830    0.8782    0.8804      2000\n",
      "weighted avg     0.9125    0.9125    0.9123      2000\n",
      "\n"
     ]
    }
   ],
   "source": [
    "print(classification_report(y_test.numpy(),np.array(pred_lst5[0]),digits=4))"
   ]
  },
  {
   "cell_type": "code",
   "execution_count": null,
   "metadata": {},
   "outputs": [],
   "source": []
  }
 ],
 "metadata": {
  "kernelspec": {
   "display_name": "Python 3",
   "language": "python",
   "name": "python3"
  },
  "language_info": {
   "codemirror_mode": {
    "name": "ipython",
    "version": 3
   },
   "file_extension": ".py",
   "mimetype": "text/x-python",
   "name": "python",
   "nbconvert_exporter": "python",
   "pygments_lexer": "ipython3",
   "version": "3.8.8"
  }
 },
 "nbformat": 4,
 "nbformat_minor": 4
}
